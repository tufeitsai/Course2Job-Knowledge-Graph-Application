{
 "cells": [
  {
   "cell_type": "code",
   "execution_count": 2,
   "id": "ddab8577-2da9-444f-8c1e-a684de24dc09",
   "metadata": {},
   "outputs": [],
   "source": [
    "import pandas as pd\n",
    "\n",
    "# Load JSON file into pandas DataFrame\n",
    "df = pd.read_json(\"simplyhired_data.json\")"
   ]
  },
  {
   "cell_type": "code",
   "execution_count": 4,
   "id": "8dae6243-1123-4030-b0f8-095af67f4ce0",
   "metadata": {},
   "outputs": [
    {
     "name": "stdout",
     "output_type": "stream",
     "text": [
      "Found 31 duplicate rows.\n"
     ]
    },
    {
     "data": {
      "text/html": [
       "<div>\n",
       "<style scoped>\n",
       "    .dataframe tbody tr th:only-of-type {\n",
       "        vertical-align: middle;\n",
       "    }\n",
       "\n",
       "    .dataframe tbody tr th {\n",
       "        vertical-align: top;\n",
       "    }\n",
       "\n",
       "    .dataframe thead th {\n",
       "        text-align: right;\n",
       "    }\n",
       "</style>\n",
       "<table border=\"1\" class=\"dataframe\">\n",
       "  <thead>\n",
       "    <tr style=\"text-align: right;\">\n",
       "      <th></th>\n",
       "      <th>Job Title</th>\n",
       "      <th>Company</th>\n",
       "      <th>Location</th>\n",
       "      <th>Work Type</th>\n",
       "      <th>Salary</th>\n",
       "      <th>Benefits</th>\n",
       "      <th>Qualifications</th>\n",
       "      <th>Full Job Description</th>\n",
       "      <th>URL</th>\n",
       "    </tr>\n",
       "  </thead>\n",
       "  <tbody>\n",
       "    <tr>\n",
       "      <th>3000</th>\n",
       "      <td>N/A</td>\n",
       "      <td>N/A</td>\n",
       "      <td>N/A</td>\n",
       "      <td>N/A</td>\n",
       "      <td>Not listed</td>\n",
       "      <td></td>\n",
       "      <td></td>\n",
       "      <td></td>\n",
       "      <td>https://www.simplyhired.com/search?q=AI+Resear...</td>\n",
       "    </tr>\n",
       "    <tr>\n",
       "      <th>3005</th>\n",
       "      <td>N/A</td>\n",
       "      <td>N/A</td>\n",
       "      <td>N/A</td>\n",
       "      <td>N/A</td>\n",
       "      <td>Not listed</td>\n",
       "      <td></td>\n",
       "      <td></td>\n",
       "      <td></td>\n",
       "      <td>https://www.simplyhired.com/search?q=AI+Resear...</td>\n",
       "    </tr>\n",
       "    <tr>\n",
       "      <th>3006</th>\n",
       "      <td>N/A</td>\n",
       "      <td>N/A</td>\n",
       "      <td>N/A</td>\n",
       "      <td>N/A</td>\n",
       "      <td>Not listed</td>\n",
       "      <td></td>\n",
       "      <td></td>\n",
       "      <td></td>\n",
       "      <td>https://www.simplyhired.com/search?q=AI+Resear...</td>\n",
       "    </tr>\n",
       "    <tr>\n",
       "      <th>6881</th>\n",
       "      <td>Fall Co-Op, Bioinformatics OTS</td>\n",
       "      <td>BI Pharmaceuticals, Inc.</td>\n",
       "      <td>Ridgefield, CT</td>\n",
       "      <td>Full-time</td>\n",
       "      <td>Estimated: $37.8K - $61.9K a year</td>\n",
       "      <td></td>\n",
       "      <td>R, Python, Entry level</td>\n",
       "      <td>Boehringer Ingelheim is currently seeking a ta...</td>\n",
       "      <td>https://www.simplyhired.com/search?q=bioinform...</td>\n",
       "    </tr>\n",
       "    <tr>\n",
       "      <th>6882</th>\n",
       "      <td>Bioinformatics Pipeline Engineer (Remote)</td>\n",
       "      <td>Quest Diagnostics</td>\n",
       "      <td>Marlborough, MA</td>\n",
       "      <td>Full-time</td>\n",
       "      <td>Estimated: $89.2K - $150K a year</td>\n",
       "      <td></td>\n",
       "      <td>CI/CD, Management, Bootstrap, RESTful API, D3....</td>\n",
       "      <td>Develop, validate, and implement new software ...</td>\n",
       "      <td>https://www.simplyhired.com/search?q=bioinform...</td>\n",
       "    </tr>\n",
       "  </tbody>\n",
       "</table>\n",
       "</div>"
      ],
      "text/plain": [
       "                                      Job Title                   Company  \\\n",
       "3000                                        N/A                       N/A   \n",
       "3005                                        N/A                       N/A   \n",
       "3006                                        N/A                       N/A   \n",
       "6881             Fall Co-Op, Bioinformatics OTS  BI Pharmaceuticals, Inc.   \n",
       "6882  Bioinformatics Pipeline Engineer (Remote)         Quest Diagnostics   \n",
       "\n",
       "             Location  Work Type                             Salary Benefits  \\\n",
       "3000              N/A        N/A                         Not listed            \n",
       "3005              N/A        N/A                         Not listed            \n",
       "3006              N/A        N/A                         Not listed            \n",
       "6881   Ridgefield, CT  Full-time  Estimated: $37.8K - $61.9K a year            \n",
       "6882  Marlborough, MA  Full-time   Estimated: $89.2K - $150K a year            \n",
       "\n",
       "                                         Qualifications  \\\n",
       "3000                                                      \n",
       "3005                                                      \n",
       "3006                                                      \n",
       "6881                             R, Python, Entry level   \n",
       "6882  CI/CD, Management, Bootstrap, RESTful API, D3....   \n",
       "\n",
       "                                   Full Job Description  \\\n",
       "3000                                                      \n",
       "3005                                                      \n",
       "3006                                                      \n",
       "6881  Boehringer Ingelheim is currently seeking a ta...   \n",
       "6882  Develop, validate, and implement new software ...   \n",
       "\n",
       "                                                    URL  \n",
       "3000  https://www.simplyhired.com/search?q=AI+Resear...  \n",
       "3005  https://www.simplyhired.com/search?q=AI+Resear...  \n",
       "3006  https://www.simplyhired.com/search?q=AI+Resear...  \n",
       "6881  https://www.simplyhired.com/search?q=bioinform...  \n",
       "6882  https://www.simplyhired.com/search?q=bioinform...  "
      ]
     },
     "execution_count": 4,
     "metadata": {},
     "output_type": "execute_result"
    }
   ],
   "source": [
    "# Check for duplicates across all columns\n",
    "duplicates = df[df.duplicated(keep=False)]\n",
    "\n",
    "# Show duplicates if any\n",
    "print(f\"Found {len(duplicates)} duplicate rows.\")\n",
    "duplicates.head()"
   ]
  },
  {
   "cell_type": "code",
   "execution_count": 6,
   "id": "aad1dbdd-3ff2-4753-9740-141b0b52ad50",
   "metadata": {},
   "outputs": [
    {
     "name": "stdout",
     "output_type": "stream",
     "text": [
      "Cleaned dataset now has 7384 rows.\n"
     ]
    }
   ],
   "source": [
    "df_cleaned = df.drop_duplicates(keep=\"first\")\n",
    "print(f\"Cleaned dataset now has {len(df_cleaned)} rows.\")"
   ]
  },
  {
   "cell_type": "code",
   "execution_count": 8,
   "id": "4b8c50c5-f311-47e1-a8cd-ea830d044c83",
   "metadata": {},
   "outputs": [
    {
     "name": "stdout",
     "output_type": "stream",
     "text": [
      "Cleaned JSON saved.\n"
     ]
    }
   ],
   "source": [
    "df_cleaned.to_json(\"simplyhired_data_cleaned.json\", orient=\"records\", indent=4)\n",
    "print(\"Cleaned JSON saved.\")"
   ]
  },
  {
   "cell_type": "code",
   "execution_count": null,
   "id": "b9db606a-a04d-4f83-9adb-4dcecc0193c2",
   "metadata": {},
   "outputs": [],
   "source": []
  }
 ],
 "metadata": {
  "kernelspec": {
   "display_name": "Python 3 (ipykernel)",
   "language": "python",
   "name": "python3"
  },
  "language_info": {
   "codemirror_mode": {
    "name": "ipython",
    "version": 3
   },
   "file_extension": ".py",
   "mimetype": "text/x-python",
   "name": "python",
   "nbconvert_exporter": "python",
   "pygments_lexer": "ipython3",
   "version": "3.12.7"
  }
 },
 "nbformat": 4,
 "nbformat_minor": 5
}
