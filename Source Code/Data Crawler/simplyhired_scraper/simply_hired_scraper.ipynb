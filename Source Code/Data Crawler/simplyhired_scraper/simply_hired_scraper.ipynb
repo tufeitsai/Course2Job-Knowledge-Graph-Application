{
 "cells": [
  {
   "cell_type": "markdown",
   "metadata": {},
   "source": [
    "Steps:\n",
    "+ 设置不同position url，通过selenium访问\n",
    "+ 获取当前页面job posting url\n",
    "+ 如果下一页存在，则通过click到达下一页\n",
    "+ 重复以上过程，直到最后一页/已获取特定数量job posting url\n",
    "+ 访问不同job posting，获取job description"
   ]
  },
  {
   "cell_type": "code",
   "execution_count": 8,
   "metadata": {},
   "outputs": [],
   "source": [
    "from selenium import webdriver\n",
    "from selenium.webdriver.common.by import By\n",
    "import time\n",
    "import random"
   ]
  },
  {
   "cell_type": "code",
   "execution_count": null,
   "metadata": {},
   "outputs": [],
   "source": [
    "# title_list = ['Software Engineer Intern', 'Software Developer Intern', 'Full-Stack Developer Intern', 'Frontend Developer Intern', 'Backend Developer Intern', 'Mobile App Developer Intern (iOS/Android)', 'Web Developer Intern', 'Game Developer Intern', 'DevOps Intern', 'Cloud Engineer Intern', 'Systems Engineer Intern', 'Cybersecurity Intern', 'Test Automation Intern', 'Data Scientist Intern', 'Data Analyst Intern', 'Machine Learning Engineer Intern', 'Deep Learning Engineer Intern', 'AI Research Intern', 'NLP Engineer Intern', 'Computer Vision Intern', 'Data Engineer Intern', 'Business Intelligence (BI) Intern', 'Quantitative Research Intern', 'AI Product Intern', 'Database Administrator Intern', 'Big Data Engineer Intern', 'Cloud Data Engineer Intern', 'ETL Developer Intern', 'MLOps Intern', 'Security Engineer Intern', 'SOC Analyst Intern (Security Operations Center)', 'IT Support Intern', 'Network Engineer Intern', 'Technical Program Manager Intern', 'AI Product Manager Intern', 'Project Manager Intern (IT)', 'UX Engineer Intern', 'Research Intern (AI/ML/Data Science)', 'Teaching Assistant Intern (CS/AI)', 'Bioinformatics Intern', 'Quantum Computing Intern', 'High-Performance Computing (HPC) Intern']\n",
    "# title_list = [title.lower().split() for title in title_list]\n",
    "\n",
    "# url_list = ['https://www.simplyhired.com/search?q=' + '+'.join(title) +  '&l=United+States' for title in title_list]"
   ]
  },
  {
   "cell_type": "code",
   "execution_count": null,
   "metadata": {},
   "outputs": [],
   "source": [
    "# # visit target page\n",
    "# driver = webdriver.Chrome()"
   ]
  },
  {
   "cell_type": "markdown",
   "metadata": {},
   "source": [
    "### Get url for each job title"
   ]
  },
  {
   "cell_type": "code",
   "execution_count": null,
   "metadata": {},
   "outputs": [
    {
     "name": "stdout",
     "output_type": "stream",
     "text": [
      "Page 1 hrefs: ['https://www.simplyhired.com/job/2yF6OoFTVmtB7S_4d-w_Od--66NLXYnWUqb7X0JWIS6gQrQQf7REHQ', 'https://www.simplyhired.com/job/_Ln50z4jnMSq7TVQ18MKqLP2lmBDewPcGLV3--XayVtxBDIuO29JXw', 'https://www.simplyhired.com/job/JstPf3L9s35FOa0OvW_dvO5KysxplHnbijPl-6sPvnllCfFqOdXkJA', 'https://www.simplyhired.com/job/wuX1p9coo2vLfSHdDIM6rrNkFa8tws9khEBHmE-7UAvwqATPuFsR9Q', 'https://www.simplyhired.com/job/oEekG9O9b2y_m_ou9Cd711fvMHK8ombLKf_zYa3rQyWweh5Htjoo-g', 'https://www.simplyhired.com/job/T2BFLB3x_AD_HXEfGwLvfNEn8ifJVBqrmyBeakvHcHLJvYpdyF-y-g', 'https://www.simplyhired.com/job/EGVEurXpKnKaGVPJCR8lOwchgoOJtJP5klgfBSYVDahqD8b53HlJZw', 'https://www.simplyhired.com/job/QXnYXGvRnFnyIGvxprTd1NEJY930srCVAnFRCUiTTHNPH4fOumVifQ', 'https://www.simplyhired.com/job/KraViTz6ffLvbGFt6qmx2NCPqOMgasJ21JXEK91rcchkajY6tuL5WQ', 'https://www.simplyhired.com/job/NIDUn083zInOd4mFjHlQm5IWkBYhbUeKg-abSYbS91gdXDoDCDS7rg', 'https://www.simplyhired.com/job/CniE1vnvYuEJ3W3jiKRZz_1xK-Glb4qx28xPmRj5U3IW6cKwZ1z23A', 'https://www.simplyhired.com/job/cqIY7URcNTlILZIiJGZZLpo48A0CpHkzmYahaKwdRtuo4SwKPJTQng', 'https://www.simplyhired.com/job/l_FHXQZ16mUVjtduPnwbPhKyKWXRkZ5H5ERdT1v2gicWeLUhZj7YYg', 'https://www.simplyhired.com/job/fMYUUiA-Q8qPUEm1Y_t0-vt_rvKKJIJD13Wx1p9dKTwTzcE1WZBqwg', 'https://www.simplyhired.com/job/RZ3x4P7V_jgGXgEdJpj5F3JIEe2DPVcm09zEE7Pc-Dn9jW3cReVd6A', 'https://www.simplyhired.com/job/-tntZqZTXXdqVjpsqrBNC8rnqYWJECSkh2x11qYIRj0xcrUpmyoWjg', 'https://www.simplyhired.com/job/tcNP_yS9cd56VKtdC2tt8I7a2oh-RZ8TBCu-Hh2hQwiXwwrmCG3B5g', 'https://www.simplyhired.com/job/NaEs_muhNPwB71m6yKoLvktId1Nmu2nhNwLOOuUJSOa6GZiV1hZ-Iw', 'https://www.simplyhired.com/job/7rw9o7aimWLaVXFGs3Gy87Aatg_wKLO3025fALid-wXcn7wfhi5fYg', 'https://www.simplyhired.com/job/RixgSMJeMEnjd_KovcFsKAKNzo29A_bfTL9T5-0vxy3j3vIz7qYXcw']\n",
      "Page 2 hrefs: ['https://www.simplyhired.com/job/TLskDhFKwG-vXHokA_XWSO9rG5eAnVWHi6I08Di8g8ELwUPsGeq5sA', 'https://www.simplyhired.com/job/RSqNv6FYeTeQRIyXDV2XqOraPZlvSpfk3B8iLkcu90pd5zRmu2msQA', 'https://www.simplyhired.com/job/caqr9Wsdmmq8xD-Wkf0lziemW_JED4v9krrOW-KC-vJGUXplbO5trg', 'https://www.simplyhired.com/job/MDa_YlX4wD0QRluue-ciqFuJRZGSQiHCCYSZRiHjAtWBiCJilba5Cw', 'https://www.simplyhired.com/job/L-MF_ZCIDsJX7VNJJI6G3eH-1j1evUh4cQNWQULEKXwUYbhsOw5mDA', 'https://www.simplyhired.com/job/OUCwT4UUVq3B94eLsypTAxwWE3oAUZ8KZjJS8QoA2ZVzWlgTVgBADw', 'https://www.simplyhired.com/job/X_sxlMCdBGI80jxBX7Gi-iMEB11OrnJhssxqg7kZdHEnsG-ZYmDg9w', 'https://www.simplyhired.com/job/9CFZEFvbuKZ0XgmKMa1h3zlBtpiH5oJX_bB2MS1xAmZTD5Ecd9-VHA', 'https://www.simplyhired.com/job/5S1l_qixdosLXyg6KHs6deKZhkb9_12cQHOUPNnBeam1yRSo0SvXig', 'https://www.simplyhired.com/job/W3DxTAahz3DHwo53eF4J14pZG4n15mLV4l1smL4SK09HEc7WNAlrJQ', 'https://www.simplyhired.com/job/H4K6pFhgpiMgxMKJGQXxfRvemOt60hrWogK3jH2ifzCRB8xeRAgNQQ', 'https://www.simplyhired.com/job/_Xb5AhkXQ3piiWxxHET8zUeMEaUtU_6etAPlwHIWkimQsyqJEDqrBQ', 'https://www.simplyhired.com/job/35RaOI7qUp8V-66nJqrtvU-91sFp4sC4zg23fqsdghbBKLDtxHzD_g', 'https://www.simplyhired.com/job/V6VOXiHadKLqQXyt89CVDd0mc7OjoUmgquHSnfAZmqSdCjQTasAvfA', 'https://www.simplyhired.com/job/EltS1Ew-bH9FsF03WGF6Hsomnc286Yy5flixKzX3hspEJKsMGc8JsA', 'https://www.simplyhired.com/job/dGIV_p6BreO0NqqXfiogNPJM0KQW6l3j5Ufc81fSrivnwqcUDiZF4w', 'https://www.simplyhired.com/job/vw48ugVNv1RF4kWtSsq_au81zSBPTKZC234J-zMuG31_qHtZo6drKg', 'https://www.simplyhired.com/job/OUnGVd2lHnLJ0JF5j0XpyBbDzrdSF4u3mEBbR_jA1xj7puIMo-5eHg', 'https://www.simplyhired.com/job/fPhRjzWVebKPDp30TXt3qP1ZaiN3nWMh9LGoC_jzVxlr2edcdnjbKg', 'https://www.simplyhired.com/job/PpiHXyatLGeIQzgQd153RuEuTf6oY5BBxU7fzORGPfeYEPpT242GYQ']\n",
      "Page 3 hrefs: ['https://www.simplyhired.com/job/2yF6OoFTVmtB7S_4d-w_Od--66NLXYnWUqb7X0JWIS6gQrQQf7REHQ', 'https://www.simplyhired.com/job/_Ln50z4jnMSq7TVQ18MKqLP2lmBDewPcGLV3--XayVtxBDIuO29JXw', 'https://www.simplyhired.com/job/JstPf3L9s35FOa0OvW_dvO5KysxplHnbijPl-6sPvnllCfFqOdXkJA', 'https://www.simplyhired.com/job/wuX1p9coo2vLfSHdDIM6rrNkFa8tws9khEBHmE-7UAvwqATPuFsR9Q', 'https://www.simplyhired.com/job/oEekG9O9b2y_m_ou9Cd711fvMHK8ombLKf_zYa3rQyWweh5Htjoo-g', 'https://www.simplyhired.com/job/T2BFLB3x_AD_HXEfGwLvfNEn8ifJVBqrmyBeakvHcHLJvYpdyF-y-g', 'https://www.simplyhired.com/job/QXnYXGvRnFnyIGvxprTd1NEJY930srCVAnFRCUiTTHNPH4fOumVifQ', 'https://www.simplyhired.com/job/EGVEurXpKnKaGVPJCR8lOwchgoOJtJP5klgfBSYVDahqD8b53HlJZw', 'https://www.simplyhired.com/job/cqIY7URcNTlILZIiJGZZLpo48A0CpHkzmYahaKwdRtuo4SwKPJTQng', 'https://www.simplyhired.com/job/CniE1vnvYuEJ3W3jiKRZz_1xK-Glb4qx28xPmRj5U3IW6cKwZ1z23A', 'https://www.simplyhired.com/job/KraViTz6ffLvbGFt6qmx2NCPqOMgasJ21JXEK91rcchkajY6tuL5WQ', 'https://www.simplyhired.com/job/NIDUn083zInOd4mFjHlQm5IWkBYhbUeKg-abSYbS91gdXDoDCDS7rg', 'https://www.simplyhired.com/job/l_FHXQZ16mUVjtduPnwbPhKyKWXRkZ5H5ERdT1v2gicWeLUhZj7YYg', 'https://www.simplyhired.com/job/tcNP_yS9cd56VKtdC2tt8I7a2oh-RZ8TBCu-Hh2hQwiXwwrmCG3B5g', 'https://www.simplyhired.com/job/-tntZqZTXXdqVjpsqrBNC8rnqYWJECSkh2x11qYIRj0xcrUpmyoWjg', 'https://www.simplyhired.com/job/NaEs_muhNPwB71m6yKoLvktId1Nmu2nhNwLOOuUJSOa6GZiV1hZ-Iw', 'https://www.simplyhired.com/job/7rw9o7aimWLaVXFGs3Gy87Aatg_wKLO3025fALid-wXcn7wfhi5fYg', 'https://www.simplyhired.com/job/RSqNv6FYeTeQRIyXDV2XqOraPZlvSpfk3B8iLkcu90pd5zRmu2msQA', 'https://www.simplyhired.com/job/RZ3x4P7V_jgGXgEdJpj5F3JIEe2DPVcm09zEE7Pc-Dn9jW3cReVd6A', 'https://www.simplyhired.com/job/fMYUUiA-Q8qPUEm1Y_t0-vt_rvKKJIJD13Wx1p9dKTwTzcE1WZBqwg']\n",
      "Page 4 hrefs: ['https://www.simplyhired.com/job/TLskDhFKwG-vXHokA_XWSO9rG5eAnVWHi6I08Di8g8ELwUPsGeq5sA', 'https://www.simplyhired.com/job/caqr9Wsdmmq8xD-Wkf0lziemW_JED4v9krrOW-KC-vJGUXplbO5trg', 'https://www.simplyhired.com/job/RixgSMJeMEnjd_KovcFsKAKNzo29A_bfTL9T5-0vxy3j3vIz7qYXcw', 'https://www.simplyhired.com/job/X_sxlMCdBGI80jxBX7Gi-iMEB11OrnJhssxqg7kZdHEnsG-ZYmDg9w', 'https://www.simplyhired.com/job/MDa_YlX4wD0QRluue-ciqFuJRZGSQiHCCYSZRiHjAtWBiCJilba5Cw', 'https://www.simplyhired.com/job/L-MF_ZCIDsJX7VNJJI6G3eH-1j1evUh4cQNWQULEKXwUYbhsOw5mDA', 'https://www.simplyhired.com/job/OUCwT4UUVq3B94eLsypTAxwWE3oAUZ8KZjJS8QoA2ZVzWlgTVgBADw', 'https://www.simplyhired.com/job/5S1l_qixdosLXyg6KHs6deKZhkb9_12cQHOUPNnBeam1yRSo0SvXig', 'https://www.simplyhired.com/job/9CFZEFvbuKZ0XgmKMa1h3zlBtpiH5oJX_bB2MS1xAmZTD5Ecd9-VHA', 'https://www.simplyhired.com/job/H4K6pFhgpiMgxMKJGQXxfRvemOt60hrWogK3jH2ifzCRB8xeRAgNQQ', 'https://www.simplyhired.com/job/W3DxTAahz3DHwo53eF4J14pZG4n15mLV4l1smL4SK09HEc7WNAlrJQ', 'https://www.simplyhired.com/job/EltS1Ew-bH9FsF03WGF6Hsomnc286Yy5flixKzX3hspEJKsMGc8JsA', 'https://www.simplyhired.com/job/35RaOI7qUp8V-66nJqrtvU-91sFp4sC4zg23fqsdghbBKLDtxHzD_g', 'https://www.simplyhired.com/job/dGIV_p6BreO0NqqXfiogNPJM0KQW6l3j5Ufc81fSrivnwqcUDiZF4w', 'https://www.simplyhired.com/job/vw48ugVNv1RF4kWtSsq_au81zSBPTKZC234J-zMuG31_qHtZo6drKg', 'https://www.simplyhired.com/job/_Xb5AhkXQ3piiWxxHET8zUeMEaUtU_6etAPlwHIWkimQsyqJEDqrBQ', 'https://www.simplyhired.com/job/OUnGVd2lHnLJ0JF5j0XpyBbDzrdSF4u3mEBbR_jA1xj7puIMo-5eHg', 'https://www.simplyhired.com/job/BEVlUpcN8Dk-sbkznwb3i2NmcLkNt4HCEQI60b2ip8rWNNVGC8EiDg', 'https://www.simplyhired.com/job/fPhRjzWVebKPDp30TXt3qP1ZaiN3nWMh9LGoC_jzVxlr2edcdnjbKg', 'https://www.simplyhired.com/job/9agTabyEahp7Cnx6_GX-HAH48GUnt0oymcWYLbaVcCnpLTQdF-h1dA']\n",
      "Page 1 hrefs: ['https://www.simplyhired.com/job/DnFqS_wIglRAlYIVVAB5kAnXDXztDXV95U2_uSvCwr3Sm-tWMmAF9Q', 'https://www.simplyhired.com/job/fgPXyGKcf_azI9DFl0edPQ2hnJAWyu_F183n6O_s442y6Zqk-1fNOQ', 'https://www.simplyhired.com/job/1zv95qr5mDbsK9OOVns5WWCsPr0APryTv7lL96HEOjLoqguJz0bPxQ', 'https://www.simplyhired.com/job/YjYUy3Ace0rsImAVfRKBJI_cvmRAUqHKLWZE_3gAzudnkHprpdaI_A', 'https://www.simplyhired.com/job/AILh_ncu1Cze5QMwLiY8WLjx6B17JVXOMfyV9aR0Fo_GBPAs1XRaLw', 'https://www.simplyhired.com/job/1hX1fLo2RKIL6hBTL1Ueah9lxnt8ZVySuj2Az8Pt1JGIgmzvMzEkfQ', 'https://www.simplyhired.com/job/mhE8AvMAp46AWFlygDh5iiIRqx6M_HSCwRBAOrHr-meLpN_PXVSbNw', 'https://www.simplyhired.com/job/3h_gM-iGL6zQpK5z6orr7sHIRoxWrA_bJZyR7whsAHawcx6Ui3hnNA', 'https://www.simplyhired.com/job/3alWkr0ViBZoAA5qCAa6ft1cQtJpYMn7st3HXy1QvrXMFnmtJMDGRA', 'https://www.simplyhired.com/job/ZjFKUJtM07mKQkcVpQQJap9Re_RmbHREgFbh9U6vrTZVcsFIMPbP9Q', 'https://www.simplyhired.com/job/_sh9sFjgUVkT3praxBOoSxzfuYhHR8t9ImmH_M7_SmwySO6NsnJHfQ', 'https://www.simplyhired.com/job/iKS6l-jNhrkSPneKC5sNvnmFMQsdlccjdgCJJsnaL5A8WK83g59B1A', 'https://www.simplyhired.com/job/44m6a0ojqK6N_AIqkzHaBoZZQPLDEpJQIVG-hJbinjn3SsTLX5GGUQ', 'https://www.simplyhired.com/job/g961JNe1R0nmtTrh1e8QuyVWf0uBHBVpdACrEwFOGHoBujsA3jGUDg', 'https://www.simplyhired.com/job/HqzGVMU9ltaOy0lDyl1LiIu0vXQu2h_GMc6sZWu7_MhU11b0IvldQQ', 'https://www.simplyhired.com/job/nIClluWfzz8KYatlfrGJFwFEiUQVT2lNlY4zWvtYj1e7hFrWcqXUMQ', 'https://www.simplyhired.com/job/UpkzSC7I5BkTtHarskmWduWTIySqm5vooUJ5Xkel3MTfK4HeTovW9w', 'https://www.simplyhired.com/job/FDLSFw71MerelmUpO-en5I9o6yX0E-s6ezMMgZZcqT0EA_hZT7S1Ew', 'https://www.simplyhired.com/job/6c5FBC6TmSrlSccXLTIlSqjESoJhPP4qiH_J1DV-sr8FiXCU9_2-6A', 'https://www.simplyhired.com/job/q9tPiIezevQC4-bSyekQ-1DjqA3qWsTVmsShkA7rs3RgUtjVLRvWyA']\n",
      "Page 2 hrefs: ['https://www.simplyhired.com/job/vhyhevLeQrsdBdqGvymLMpD_FW6eb1JY9X9IWgNtrG9x9ufGlciUYg', 'https://www.simplyhired.com/job/8P1N2hKfIGCpTKJbpBpqMBd3G_kT3GVGH-2D-DTcCHcaXdYNiZPQ9w', 'https://www.simplyhired.com/job/asKLZRukSHuRgrHW3yy2qQSsAi7QpQ5nWFQX8nxjFKmRHN3hE6ku3g', 'https://www.simplyhired.com/job/ulI7SHGI7BZoRwXsMtCsKcQMTowdWKJwM6ZNO3Utk_cTiBkx0v9vqg', 'https://www.simplyhired.com/job/9d2rHpGlCJDkhYCqN6mzUIP5WxOQkR9My4VUAHfyr4IO_9yti9p6Hg', 'https://www.simplyhired.com/job/C4EC-k3g74Y99JAH03q6laSviT8NEU51AjmAcML9o0l4eZgGICbpCA', 'https://www.simplyhired.com/job/JbPQqBU27EbEOniFGqeVobhzCWQgOcow0DEs33a4ZxtnORM-JrqC-A', 'https://www.simplyhired.com/job/kSe_kbzUxbi4ggMCBf7FYJon34Q_WlIQlll4MZLFkhAVGOjjlNSKpw', 'https://www.simplyhired.com/job/3sDsUdUDbzxV9PeBtNRO7azuV4jCJRtbbvR41P4lUT9MMBaU3Z8hgg', 'https://www.simplyhired.com/job/N4ii7vZZ1huUWCHAXuxi6EEXCeLaVf8y0Z99kpxamdvYOuSncIxM0g', 'https://www.simplyhired.com/job/ZX07WFb0_Hez1IZYo-HYjrV8FaKB2F2zE905GR89JrNXaVVZM3H1ig', 'https://www.simplyhired.com/job/YUOInQ9ZjsJMtb0GSjf9Txq3rWonR9iYaDMh9cKkBe9O1tPKdP2nbg', 'https://www.simplyhired.com/job/L3g0Rhd60AyZxwq7BcEKC-Fu2_xOTnmQyquBI3EZxu6pDNHZWjHZ7g', 'https://www.simplyhired.com/job/w6n-NWsbTNDaHfuzz1bqdhFLSRMz_qfDEkJ9v3uQ-RdnSWC9DEd_rA', 'https://www.simplyhired.com/job/rZtR17COKT_xy0nU9dyYEFRMaSTszCGS9R6ifltNrRpGirO_cwUqew', 'https://www.simplyhired.com/job/ggf6uxm5v48xagsEU_DbZ468osk5hAFZTS28Hjlvpa77FBYwz_6CEA', 'https://www.simplyhired.com/job/4zqCaTMCX_2cOeuHu7ZHtxPZgyNhF1Fb3JGPKQT8WO4PgjBMhRBWgQ', 'https://www.simplyhired.com/job/_Eh0E5MCjJs4Drx4oNldqCN_BxO7OV3YNX4sxkMF44wxtBVkXwHphw', 'https://www.simplyhired.com/job/eUFl9HOQUbiXA_qHthG1MdSOoe4KAx6VY6AoHQnPks7lA3y11np_7Q', 'https://www.simplyhired.com/job/c7w8V1GjCK_PecFReaeDDSwl4t8zKWEzeLYEpYuBGFBT-pw19SUEhw']\n",
      "Page 3 hrefs: ['https://www.simplyhired.com/job/fgPXyGKcf_azI9DFl0edPQ2hnJAWyu_F183n6O_s442y6Zqk-1fNOQ', 'https://www.simplyhired.com/job/DnFqS_wIglRAlYIVVAB5kAnXDXztDXV95U2_uSvCwr3Sm-tWMmAF9Q', 'https://www.simplyhired.com/job/1zv95qr5mDbsK9OOVns5WWCsPr0APryTv7lL96HEOjLoqguJz0bPxQ', 'https://www.simplyhired.com/job/YjYUy3Ace0rsImAVfRKBJI_cvmRAUqHKLWZE_3gAzudnkHprpdaI_A', 'https://www.simplyhired.com/job/AILh_ncu1Cze5QMwLiY8WLjx6B17JVXOMfyV9aR0Fo_GBPAs1XRaLw', 'https://www.simplyhired.com/job/1hX1fLo2RKIL6hBTL1Ueah9lxnt8ZVySuj2Az8Pt1JGIgmzvMzEkfQ', 'https://www.simplyhired.com/job/3h_gM-iGL6zQpK5z6orr7sHIRoxWrA_bJZyR7whsAHawcx6Ui3hnNA', 'https://www.simplyhired.com/job/mhE8AvMAp46AWFlygDh5iiIRqx6M_HSCwRBAOrHr-meLpN_PXVSbNw', 'https://www.simplyhired.com/job/ZjFKUJtM07mKQkcVpQQJap9Re_RmbHREgFbh9U6vrTZVcsFIMPbP9Q', 'https://www.simplyhired.com/job/3alWkr0ViBZoAA5qCAa6ft1cQtJpYMn7st3HXy1QvrXMFnmtJMDGRA', 'https://www.simplyhired.com/job/_sh9sFjgUVkT3praxBOoSxzfuYhHR8t9ImmH_M7_SmwySO6NsnJHfQ', 'https://www.simplyhired.com/job/iKS6l-jNhrkSPneKC5sNvnmFMQsdlccjdgCJJsnaL5A8WK83g59B1A', 'https://www.simplyhired.com/job/44m6a0ojqK6N_AIqkzHaBoZZQPLDEpJQIVG-hJbinjn3SsTLX5GGUQ', 'https://www.simplyhired.com/job/HqzGVMU9ltaOy0lDyl1LiIu0vXQu2h_GMc6sZWu7_MhU11b0IvldQQ', 'https://www.simplyhired.com/job/g961JNe1R0nmtTrh1e8QuyVWf0uBHBVpdACrEwFOGHoBujsA3jGUDg', 'https://www.simplyhired.com/job/nIClluWfzz8KYatlfrGJFwFEiUQVT2lNlY4zWvtYj1e7hFrWcqXUMQ', 'https://www.simplyhired.com/job/6c5FBC6TmSrlSccXLTIlSqjESoJhPP4qiH_J1DV-sr8FiXCU9_2-6A', 'https://www.simplyhired.com/job/FDLSFw71MerelmUpO-en5I9o6yX0E-s6ezMMgZZcqT0EA_hZT7S1Ew', 'https://www.simplyhired.com/job/8P1N2hKfIGCpTKJbpBpqMBd3G_kT3GVGH-2D-DTcCHcaXdYNiZPQ9w', 'https://www.simplyhired.com/job/asKLZRukSHuRgrHW3yy2qQSsAi7QpQ5nWFQX8nxjFKmRHN3hE6ku3g']\n",
      "Page 4 hrefs: ['https://www.simplyhired.com/job/q9tPiIezevQC4-bSyekQ-1DjqA3qWsTVmsShkA7rs3RgUtjVLRvWyA', 'https://www.simplyhired.com/job/ulI7SHGI7BZoRwXsMtCsKcQMTowdWKJwM6ZNO3Utk_cTiBkx0v9vqg', 'https://www.simplyhired.com/job/UpkzSC7I5BkTtHarskmWduWTIySqm5vooUJ5Xkel3MTfK4HeTovW9w', 'https://www.simplyhired.com/job/vhyhevLeQrsdBdqGvymLMpD_FW6eb1JY9X9IWgNtrG9x9ufGlciUYg', 'https://www.simplyhired.com/job/C4EC-k3g74Y99JAH03q6laSviT8NEU51AjmAcML9o0l4eZgGICbpCA', 'https://www.simplyhired.com/job/rZtR17COKT_xy0nU9dyYEFRMaSTszCGS9R6ifltNrRpGirO_cwUqew', 'https://www.simplyhired.com/job/9d2rHpGlCJDkhYCqN6mzUIP5WxOQkR9My4VUAHfyr4IO_9yti9p6Hg', 'https://www.simplyhired.com/job/3sDsUdUDbzxV9PeBtNRO7azuV4jCJRtbbvR41P4lUT9MMBaU3Z8hgg', 'https://www.simplyhired.com/job/JbPQqBU27EbEOniFGqeVobhzCWQgOcow0DEs33a4ZxtnORM-JrqC-A', 'https://www.simplyhired.com/job/N4ii7vZZ1huUWCHAXuxi6EEXCeLaVf8y0Z99kpxamdvYOuSncIxM0g', 'https://www.simplyhired.com/job/w6n-NWsbTNDaHfuzz1bqdhFLSRMz_qfDEkJ9v3uQ-RdnSWC9DEd_rA', 'https://www.simplyhired.com/job/ZX07WFb0_Hez1IZYo-HYjrV8FaKB2F2zE905GR89JrNXaVVZM3H1ig', 'https://www.simplyhired.com/job/ggf6uxm5v48xagsEU_DbZ468osk5hAFZTS28Hjlvpa77FBYwz_6CEA', 'https://www.simplyhired.com/job/L3g0Rhd60AyZxwq7BcEKC-Fu2_xOTnmQyquBI3EZxu6pDNHZWjHZ7g', 'https://www.simplyhired.com/job/kSe_kbzUxbi4ggMCBf7FYJon34Q_WlIQlll4MZLFkhAVGOjjlNSKpw', 'https://www.simplyhired.com/job/YUOInQ9ZjsJMtb0GSjf9Txq3rWonR9iYaDMh9cKkBe9O1tPKdP2nbg', 'https://www.simplyhired.com/job/_Eh0E5MCjJs4Drx4oNldqCN_BxO7OV3YNX4sxkMF44wxtBVkXwHphw', 'https://www.simplyhired.com/job/YWwcrxPTfLINITzTay0oP1B9afvmwoqUAy6DROe95LLIspN5zqBgow', 'https://www.simplyhired.com/job/4zqCaTMCX_2cOeuHu7ZHtxPZgyNhF1Fb3JGPKQT8WO4PgjBMhRBWgQ', 'https://www.simplyhired.com/job/c7w8V1GjCK_PecFReaeDDSwl4t8zKWEzeLYEpYuBGFBT-pw19SUEhw']\n",
      "No more pages to load or 'Next' button is not available.\n",
      "Page 1 hrefs: ['https://www.simplyhired.com/job/r8fumY5Y9Bn6VBx_FflUnOBTNsJLAZ-qG4JuWh_dLmX4TLArkJdbCQ', 'https://www.simplyhired.com/job/L3g0Rhd60AyZxwq7BcEKC-Fu2_xOTnmQyquBI3EZxu6pDNHZWjHZ7g', 'https://www.simplyhired.com/job/mhE8AvMAp46AWFlygDh5iiIRqx6M_HSCwRBAOrHr-meLpN_PXVSbNw', 'https://www.simplyhired.com/job/AILh_ncu1Cze5QMwLiY8WLjx6B17JVXOMfyV9aR0Fo_GBPAs1XRaLw', 'https://www.simplyhired.com/job/3alWkr0ViBZoAA5qCAa6ft1cQtJpYMn7st3HXy1QvrXMFnmtJMDGRA', 'https://www.simplyhired.com/job/rZtR17COKT_xy0nU9dyYEFRMaSTszCGS9R6ifltNrRpGirO_cwUqew', 'https://www.simplyhired.com/job/6wwxPx_chmTUsxQwtKODyoD4YCNLdf-xfx5f3oa20sK6r1s8_4YM-w', 'https://www.simplyhired.com/job/ArLVbauI6_f6t0Y3FX0jz16RQp9jmyokR684qiqKYYK6GrAAJ_PZWQ', 'https://www.simplyhired.com/job/PU4j5eTqcHVtw3zCch9GWoPLBqtrt9f8KsZf71GhWeJX3nJb6hRVKQ', 'https://www.simplyhired.com/job/f8NBUSOk6_szpHGVthWKPlF1zP_qiWpYmN-nzEdinu_JgKoxiCHX9Q', 'https://www.simplyhired.com/job/YRdOSGNjlknGce4X6T9wKNsZFJjkCOyLFKWD0pC_f6fvdeBoq40EWw', 'https://www.simplyhired.com/job/vhyhevLeQrsdBdqGvymLMpD_FW6eb1JY9X9IWgNtrG9x9ufGlciUYg', 'https://www.simplyhired.com/job/59QhVf85f9AqwKDwhO5P6iNoS46wFoKZFm5nw7tWN7MvovWrS9CzDg', 'https://www.simplyhired.com/job/9d2rHpGlCJDkhYCqN6mzUIP5WxOQkR9My4VUAHfyr4IO_9yti9p6Hg', 'https://www.simplyhired.com/job/pigKLMUiPWGZAqk1_4zhK5g8AKaeeVhQX6A9XkJigxvQ-6a1TqSHmw', 'https://www.simplyhired.com/job/8VdQEsXf90iInba5_guUabzgg8fIvBOpeJtllx3e0SUV56CeJkoLbg', 'https://www.simplyhired.com/job/v-_FfF2jrGlDe7lllU8NQv_7aeTzwm_4jdsykSmVg2qG9bFPueQnYg', 'https://www.simplyhired.com/job/GJledYhq3L9buFOJLFg4MVS30ZynpIXF1-KVC3wFvA04G1e3g4lq0A', 'https://www.simplyhired.com/job/wXYUynTflNrYkKZhFrm3d4JRns8DNf6zGEmecbP_1NE2zRSRd-HrNA', 'https://www.simplyhired.com/job/OTWWPq8p7AV6et7XZI6AgOALqaIC1u1_JxuRa4yYV8WkkklPst52MA']\n",
      "Page 2 hrefs: ['https://www.simplyhired.com/job/VaqY4L7AQNJMBIM5btOyIuPKwFBSVFDTl-3dVHeR2vy_5psutbXSFw', 'https://www.simplyhired.com/job/I-3jD-Tb4nV025RxZeTMEJQYLEn5avqDd3e_ye5-SVxpUKPqa-o2Xw', 'https://www.simplyhired.com/job/5m9Tbz5V09ntzb7eQU6k-vLz4N5bXy0umip0znwqwQ89UxqMTfOB_Q', 'https://www.simplyhired.com/job/cWCHmqpobp2XIZqXUlN9YqUhhA3an8Jm0w-RXBBuPhmEHHLQcJ6y9w', 'https://www.simplyhired.com/job/0KHGV8dUeWHSYuA0cjbCzwwSpLRDNu3PHYf0j6b8Vadoi02FvMCATA', 'https://www.simplyhired.com/job/ZW-7h1DBLsOqsZLjdETZeSZnIjrxhN_6zC8RTWQtm044twkqzL8dHA', 'https://www.simplyhired.com/job/nbbMBaa9sXD7_0DYg4y_gpV_pSvqcSQReGJBuxaSbdAPLkkFlOrCfg', 'https://www.simplyhired.com/job/ytCq-Qnb27NnRVzZsdiZlp_WLHz5i_dKusfEz2ed4stGapLPVIwSMA', 'https://www.simplyhired.com/job/FBSJGAGVlJoKM88L_pdpucnOSRVT6WX7e9rw3dqb7xXbdCvh9v_x5w', 'https://www.simplyhired.com/job/vOpprfNAAeBKjeT9TzSOTLBqfM7494xZbTQyRnxr7hLPiEVZr-8VeQ', 'https://www.simplyhired.com/job/lFZ_QlQ3jtsJOQ9JqMCfPyLlbFZh9uAM-wkXnalH8WEZyutolHJ2CQ', 'https://www.simplyhired.com/job/5mxKghR8FDKSCUOtJZPvEkmKvOb3LLZgcukTUE8mj81VjMd-NchVQA', 'https://www.simplyhired.com/job/yogouAzg4LqSB7SJSsSh0GV4jHT4C7AtKrOiQy-2aW8pPQdygGeUng', 'https://www.simplyhired.com/job/T7hYe6dmSCTeRuDXkjkkfFR0aflcQ_UQawqZxlDCZGlTKbt_HgHQVA', 'https://www.simplyhired.com/job/kSe_kbzUxbi4ggMCBf7FYJon34Q_WlIQlll4MZLFkhAVGOjjlNSKpw', 'https://www.simplyhired.com/job/C4EC-k3g74Y99JAH03q6laSviT8NEU51AjmAcML9o0l4eZgGICbpCA', 'https://www.simplyhired.com/job/dzruufirzmc2Ij3cDKa2zOkkrUKFJsXr87fSpZmepnAtJACQXmY52Q', 'https://www.simplyhired.com/job/pxp35f6VTyVlgmRxPBnuQ8Z1t49IKmGEScVdgN8xLcwUKMc4wqSUbA', 'https://www.simplyhired.com/job/2-EZoqqn6zUqt2JR9jKHmpxmOUQFe_mcUYmTW6pSK7Yl0qT00VsHMw', 'https://www.simplyhired.com/job/ImqfGfHGDQmOtXeKkggtcGfkMmq8FEddLkMuHEfeOZh086ZW0EoEAA']\n",
      "Page 3 hrefs: ['https://www.simplyhired.com/job/r8fumY5Y9Bn6VBx_FflUnOBTNsJLAZ-qG4JuWh_dLmX4TLArkJdbCQ', 'https://www.simplyhired.com/job/L3g0Rhd60AyZxwq7BcEKC-Fu2_xOTnmQyquBI3EZxu6pDNHZWjHZ7g', 'https://www.simplyhired.com/job/mhE8AvMAp46AWFlygDh5iiIRqx6M_HSCwRBAOrHr-meLpN_PXVSbNw', 'https://www.simplyhired.com/job/3alWkr0ViBZoAA5qCAa6ft1cQtJpYMn7st3HXy1QvrXMFnmtJMDGRA', 'https://www.simplyhired.com/job/AILh_ncu1Cze5QMwLiY8WLjx6B17JVXOMfyV9aR0Fo_GBPAs1XRaLw', 'https://www.simplyhired.com/job/6wwxPx_chmTUsxQwtKODyoD4YCNLdf-xfx5f3oa20sK6r1s8_4YM-w', 'https://www.simplyhired.com/job/rZtR17COKT_xy0nU9dyYEFRMaSTszCGS9R6ifltNrRpGirO_cwUqew', 'https://www.simplyhired.com/job/ArLVbauI6_f6t0Y3FX0jz16RQp9jmyokR684qiqKYYK6GrAAJ_PZWQ', 'https://www.simplyhired.com/job/f8NBUSOk6_szpHGVthWKPlF1zP_qiWpYmN-nzEdinu_JgKoxiCHX9Q', 'https://www.simplyhired.com/job/PU4j5eTqcHVtw3zCch9GWoPLBqtrt9f8KsZf71GhWeJX3nJb6hRVKQ', 'https://www.simplyhired.com/job/YRdOSGNjlknGce4X6T9wKNsZFJjkCOyLFKWD0pC_f6fvdeBoq40EWw', 'https://www.simplyhired.com/job/vhyhevLeQrsdBdqGvymLMpD_FW6eb1JY9X9IWgNtrG9x9ufGlciUYg', 'https://www.simplyhired.com/job/9d2rHpGlCJDkhYCqN6mzUIP5WxOQkR9My4VUAHfyr4IO_9yti9p6Hg', 'https://www.simplyhired.com/job/pigKLMUiPWGZAqk1_4zhK5g8AKaeeVhQX6A9XkJigxvQ-6a1TqSHmw', 'https://www.simplyhired.com/job/OTWWPq8p7AV6et7XZI6AgOALqaIC1u1_JxuRa4yYV8WkkklPst52MA', 'https://www.simplyhired.com/job/wXYUynTflNrYkKZhFrm3d4JRns8DNf6zGEmecbP_1NE2zRSRd-HrNA', 'https://www.simplyhired.com/job/GJledYhq3L9buFOJLFg4MVS30ZynpIXF1-KVC3wFvA04G1e3g4lq0A', 'https://www.simplyhired.com/job/59QhVf85f9AqwKDwhO5P6iNoS46wFoKZFm5nw7tWN7MvovWrS9CzDg', 'https://www.simplyhired.com/job/8VdQEsXf90iInba5_guUabzgg8fIvBOpeJtllx3e0SUV56CeJkoLbg', 'https://www.simplyhired.com/job/v-_FfF2jrGlDe7lllU8NQv_7aeTzwm_4jdsykSmVg2qG9bFPueQnYg']\n",
      "Page 4 hrefs: ['https://www.simplyhired.com/job/I-3jD-Tb4nV025RxZeTMEJQYLEn5avqDd3e_ye5-SVxpUKPqa-o2Xw', 'https://www.simplyhired.com/job/cWCHmqpobp2XIZqXUlN9YqUhhA3an8Jm0w-RXBBuPhmEHHLQcJ6y9w', 'https://www.simplyhired.com/job/nbbMBaa9sXD7_0DYg4y_gpV_pSvqcSQReGJBuxaSbdAPLkkFlOrCfg', 'https://www.simplyhired.com/job/0KHGV8dUeWHSYuA0cjbCzwwSpLRDNu3PHYf0j6b8Vadoi02FvMCATA', 'https://www.simplyhired.com/job/ZW-7h1DBLsOqsZLjdETZeSZnIjrxhN_6zC8RTWQtm044twkqzL8dHA', 'https://www.simplyhired.com/job/5m9Tbz5V09ntzb7eQU6k-vLz4N5bXy0umip0znwqwQ89UxqMTfOB_Q', 'https://www.simplyhired.com/job/FBSJGAGVlJoKM88L_pdpucnOSRVT6WX7e9rw3dqb7xXbdCvh9v_x5w', 'https://www.simplyhired.com/job/yogouAzg4LqSB7SJSsSh0GV4jHT4C7AtKrOiQy-2aW8pPQdygGeUng', 'https://www.simplyhired.com/job/T7hYe6dmSCTeRuDXkjkkfFR0aflcQ_UQawqZxlDCZGlTKbt_HgHQVA', 'https://www.simplyhired.com/job/ytCq-Qnb27NnRVzZsdiZlp_WLHz5i_dKusfEz2ed4stGapLPVIwSMA', 'https://www.simplyhired.com/job/C4EC-k3g74Y99JAH03q6laSviT8NEU51AjmAcML9o0l4eZgGICbpCA', 'https://www.simplyhired.com/job/kSe_kbzUxbi4ggMCBf7FYJon34Q_WlIQlll4MZLFkhAVGOjjlNSKpw', 'https://www.simplyhired.com/job/vOpprfNAAeBKjeT9TzSOTLBqfM7494xZbTQyRnxr7hLPiEVZr-8VeQ', 'https://www.simplyhired.com/job/5mxKghR8FDKSCUOtJZPvEkmKvOb3LLZgcukTUE8mj81VjMd-NchVQA', 'https://www.simplyhired.com/job/VaqY4L7AQNJMBIM5btOyIuPKwFBSVFDTl-3dVHeR2vy_5psutbXSFw', 'https://www.simplyhired.com/job/lFZ_QlQ3jtsJOQ9JqMCfPyLlbFZh9uAM-wkXnalH8WEZyutolHJ2CQ', 'https://www.simplyhired.com/job/dzruufirzmc2Ij3cDKa2zOkkrUKFJsXr87fSpZmepnAtJACQXmY52Q', 'https://www.simplyhired.com/job/pxp35f6VTyVlgmRxPBnuQ8Z1t49IKmGEScVdgN8xLcwUKMc4wqSUbA', 'https://www.simplyhired.com/job/2-EZoqqn6zUqt2JR9jKHmpxmOUQFe_mcUYmTW6pSK7Yl0qT00VsHMw', 'https://www.simplyhired.com/job/ImqfGfHGDQmOtXeKkggtcGfkMmq8FEddLkMuHEfeOZh086ZW0EoEAA']\n",
      "Page 1 hrefs: ['https://www.simplyhired.com/job/wXrPwFXKTJNGWQUjKmFGNTJaQpuRUGiXngIokkMFFxG0vu5RlV105Q', 'https://www.simplyhired.com/job/8OF8VlqXIAdv7LmxhSFo-r0-6x1e7mshVXzUeDQsXlfGVhHVRgRCag', 'https://www.simplyhired.com/job/JhpeDo9j7drBPY5YrMy91YvEYLcJjX5CvuRB88sevwukoodppy0ovw', 'https://www.simplyhired.com/job/swhF-M_u4PVA8sbjdnuHaw_vFcuckzivxKsX6-MHYsM_gd-1QHQguQ', 'https://www.simplyhired.com/job/facf8afD9aCgprbgPjCvm6O2yWh8PpXOj10ApJlFropo1ji3Qjcaww', 'https://www.simplyhired.com/job/FGiGv9tox8SSgGd6wq9bmzwi1hucy--Z3Av6CV32Zvrg1KDCFIeHOA', 'https://www.simplyhired.com/job/XkXVzJINshvnNRGT4uOkyeKJABpzrKlBdiBXI9_bzkGaMhI5vFWN1w', 'https://www.simplyhired.com/job/6c5FBC6TmSrlSccXLTIlSqjESoJhPP4qiH_J1DV-sr8FiXCU9_2-6A', 'https://www.simplyhired.com/job/een_Bbt0-GRo2VbOz-8bUerXl7pWv_n-e9Q84rSBKu5fEGWUXA6l8A', 'https://www.simplyhired.com/job/gdkKv7mbrsBUVshfrKwCvDkTepZciCmqWGxPwg5wtiX-N2VHYuJ0IA', 'https://www.simplyhired.com/job/1pDXiyunJmkkVu7FvxuBUvgGsmHVpd2TGlosRmey3dmzyRaeJpg7Zg', 'https://www.simplyhired.com/job/19lZtcfFEkD3Jr1hjlEdzjE7gbL6HtZMfUkxYDXIuvKAeqDDaLOXvQ', 'https://www.simplyhired.com/job/9titWJns5K-H-d9-87GIhICVodhqVGh6wwopNiW14Yd2tGfK3jcMAw', 'https://www.simplyhired.com/job/vhyhevLeQrsdBdqGvymLMpD_FW6eb1JY9X9IWgNtrG9x9ufGlciUYg', 'https://www.simplyhired.com/job/ulI7SHGI7BZoRwXsMtCsKcQMTowdWKJwM6ZNO3Utk_cTiBkx0v9vqg', 'https://www.simplyhired.com/job/I-3jD-Tb4nV025RxZeTMEJQYLEn5avqDd3e_ye5-SVxpUKPqa-o2Xw', 'https://www.simplyhired.com/job/hLaHZrpAB2a_TyRBLSMl0ex8Z9NXZbGNkvusdZEDsrY7-YKcQ9FY8Q', 'https://www.simplyhired.com/job/qDitREiC6DLTLrY30Zbc9LRgunS2kAxhpi7ySOyG3hY0paQbCwEp4g', 'https://www.simplyhired.com/job/arOEXtkMUstHEZmEqjUKMbenPVCoF6FrZiYz2d45sKu63Ws8z1l69A', 'https://www.simplyhired.com/job/iQqirVP3Tiu0p7oJ6HqLWaaGGhpjzz7_onW9E1lMqAFHZ4FGSawsNw']\n",
      "Page 2 hrefs: ['https://www.simplyhired.com/job/u5no47aYvppOf6SfyoY6IQDmvP9BqpYS9-2a1vlEDonUD3xL0gLcqQ', 'https://www.simplyhired.com/job/_xhySBHLGDj21hggjeIqeCSA5RBqX5Xsjb7c3z6hPf5DH4IRTA5IbQ', 'https://www.simplyhired.com/job/JBLbMMwUlsNaGdwSREjvUnH2nc_w4LzyuB6lAAEYr05MvdBPQNMPyQ', 'https://www.simplyhired.com/job/whKbSuH2KqYkaNJ-Vs4Kl1-ESxwOTfZaNILjdBgnFt8S4gvqMP6iAQ', 'https://www.simplyhired.com/job/DCFsOnh315eDt3k06z_WTUROUzNFGbUogsxVU3QBQ5vB_Obe9Iw10Q', 'https://www.simplyhired.com/job/Pmmzvdj0dln0YyAiVoWF4YCP4D20VU9mpDYmK0kRP8uSHndKCzSNzw', 'https://www.simplyhired.com/job/ZiwPGa8YXH8VvIq9dEjltf9U80fazbdGe1q3MXyuH5XMLHnCjI0MAw', 'https://www.simplyhired.com/job/ZRPaxeu4PmESms1FQMNwLInkV-kEoipnQMriNG8rd7Bx3RTOHgVbwQ', 'https://www.simplyhired.com/job/3gr0kk-kBFLMSIzJziaejWn1e3uIj4-6rSKL0gOoeGnfk6naXQJI2g', 'https://www.simplyhired.com/job/4PFtGzy86KqK6MTqPdHx8HJ8oCTwPqohuZXeNeLmXNAKL6Fa1LVrzQ', 'https://www.simplyhired.com/job/0uy6b9Ia9HhKcctyalZnHrMmekOG7hp47gLxEtYWJSnxM5KPykDpBw', 'https://www.simplyhired.com/job/4YMSxbiAbQBPEk_zwG1ZhVC-iEJTFMPiR_ifB27C21WlJadh9UgGDA', 'https://www.simplyhired.com/job/x1OC9x7SesiIYxNGk3UcLKeFUnpMoz2LMFz4Ygl4hMHNDcuzbP9EAA', 'https://www.simplyhired.com/job/WQY7UTpALYfXvX77sm6L3S-huJQaZtJ2zCVY2nGuCAYB55CRjLumow', 'https://www.simplyhired.com/job/iEhcq_wNAM4FLZB3_feLGfSwQ6fc4xZCUbn5RDKS5I4xsOiwz2jzzg', 'https://www.simplyhired.com/job/ZOO15dJJmfdYy7iQyRB68x19_x11RCksLogu9aAjuxPA9fOxDFKHAQ', 'https://www.simplyhired.com/job/7uavxfcXRE2pJHvrvEpP7U9BNcGgeI0BFbSHUO0Hh2wf56ofFLVTLw', 'https://www.simplyhired.com/job/YmEX9X5WAkNCwasaFWalueMeIDDUpYfeHPnHE2St3lh97D3T6iKd0g', 'https://www.simplyhired.com/job/fMfRLwPVA6NPGAIaB8AK5ro9enbgD6_J8usgcnfNLgxgXLfdcD3dnQ', 'https://www.simplyhired.com/job/6yslMMJbdUMyM-McdR56UI9y1qO7bfUFG1z3mzjsjugsVpzPVk-2Ew']\n",
      "Page 3 hrefs: ['https://www.simplyhired.com/job/8OF8VlqXIAdv7LmxhSFo-r0-6x1e7mshVXzUeDQsXlfGVhHVRgRCag', 'https://www.simplyhired.com/job/wXrPwFXKTJNGWQUjKmFGNTJaQpuRUGiXngIokkMFFxG0vu5RlV105Q', 'https://www.simplyhired.com/job/JhpeDo9j7drBPY5YrMy91YvEYLcJjX5CvuRB88sevwukoodppy0ovw', 'https://www.simplyhired.com/job/swhF-M_u4PVA8sbjdnuHaw_vFcuckzivxKsX6-MHYsM_gd-1QHQguQ', 'https://www.simplyhired.com/job/facf8afD9aCgprbgPjCvm6O2yWh8PpXOj10ApJlFropo1ji3Qjcaww', 'https://www.simplyhired.com/job/FGiGv9tox8SSgGd6wq9bmzwi1hucy--Z3Av6CV32Zvrg1KDCFIeHOA', 'https://www.simplyhired.com/job/XkXVzJINshvnNRGT4uOkyeKJABpzrKlBdiBXI9_bzkGaMhI5vFWN1w', 'https://www.simplyhired.com/job/6c5FBC6TmSrlSccXLTIlSqjESoJhPP4qiH_J1DV-sr8FiXCU9_2-6A', 'https://www.simplyhired.com/job/een_Bbt0-GRo2VbOz-8bUerXl7pWv_n-e9Q84rSBKu5fEGWUXA6l8A', 'https://www.simplyhired.com/job/u5no47aYvppOf6SfyoY6IQDmvP9BqpYS9-2a1vlEDonUD3xL0gLcqQ', 'https://www.simplyhired.com/job/gdkKv7mbrsBUVshfrKwCvDkTepZciCmqWGxPwg5wtiX-N2VHYuJ0IA', 'https://www.simplyhired.com/job/1pDXiyunJmkkVu7FvxuBUvgGsmHVpd2TGlosRmey3dmzyRaeJpg7Zg', 'https://www.simplyhired.com/job/19lZtcfFEkD3Jr1hjlEdzjE7gbL6HtZMfUkxYDXIuvKAeqDDaLOXvQ', 'https://www.simplyhired.com/job/9titWJns5K-H-d9-87GIhICVodhqVGh6wwopNiW14Yd2tGfK3jcMAw', 'https://www.simplyhired.com/job/I-3jD-Tb4nV025RxZeTMEJQYLEn5avqDd3e_ye5-SVxpUKPqa-o2Xw', 'https://www.simplyhired.com/job/ulI7SHGI7BZoRwXsMtCsKcQMTowdWKJwM6ZNO3Utk_cTiBkx0v9vqg', 'https://www.simplyhired.com/job/vhyhevLeQrsdBdqGvymLMpD_FW6eb1JY9X9IWgNtrG9x9ufGlciUYg', 'https://www.simplyhired.com/job/hLaHZrpAB2a_TyRBLSMl0ex8Z9NXZbGNkvusdZEDsrY7-YKcQ9FY8Q', 'https://www.simplyhired.com/job/ishtPAdVas6cw1za1dVmGoaMbPtVVMLOgUFrpUzzwsPuRSym_hBGXg', 'https://www.simplyhired.com/job/qDitREiC6DLTLrY30Zbc9LRgunS2kAxhpi7ySOyG3hY0paQbCwEp4g']\n"
     ]
    },
    {
     "ename": "StaleElementReferenceException",
     "evalue": "Message: stale element reference: stale element not found in the current frame\n  (Session info: chrome=134.0.6998.89); For documentation on this error, please visit: https://www.selenium.dev/documentation/webdriver/troubleshooting/errors#stale-element-reference-exception\nStacktrace:\n0   chromedriver                        0x0000000102b61804 cxxbridge1$str$ptr + 2785964\n1   chromedriver                        0x0000000102b59ddc cxxbridge1$str$ptr + 2754692\n2   chromedriver                        0x00000001026adea8 cxxbridge1$string$len + 92928\n3   chromedriver                        0x00000001026b3cd0 cxxbridge1$string$len + 117032\n4   chromedriver                        0x00000001026b601c cxxbridge1$string$len + 126068\n5   chromedriver                        0x0000000102737444 cxxbridge1$string$len + 655516\n6   chromedriver                        0x0000000102736678 cxxbridge1$string$len + 651984\n7   chromedriver                        0x00000001026e935c cxxbridge1$string$len + 335796\n8   chromedriver                        0x0000000102b26cd4 cxxbridge1$str$ptr + 2545532\n9   chromedriver                        0x0000000102b29fa0 cxxbridge1$str$ptr + 2558536\n10  chromedriver                        0x0000000102b06d04 cxxbridge1$str$ptr + 2414508\n11  chromedriver                        0x0000000102b2a800 cxxbridge1$str$ptr + 2560680\n12  chromedriver                        0x0000000102af7ba0 cxxbridge1$str$ptr + 2352712\n13  chromedriver                        0x0000000102b4a45c cxxbridge1$str$ptr + 2690820\n14  chromedriver                        0x0000000102b4a5e4 cxxbridge1$str$ptr + 2691212\n15  chromedriver                        0x0000000102b59a50 cxxbridge1$str$ptr + 2753784\n16  libsystem_pthread.dylib             0x000000019e54206c _pthread_start + 148\n17  libsystem_pthread.dylib             0x000000019e53ce2c thread_start + 8\n",
     "output_type": "error",
     "traceback": [
      "\u001b[0;31m---------------------------------------------------------------------------\u001b[0m",
      "\u001b[0;31mStaleElementReferenceException\u001b[0m            Traceback (most recent call last)",
      "Cell \u001b[0;32mIn[37], line 13\u001b[0m\n\u001b[1;32m     10\u001b[0m \u001b[38;5;28;01mfor\u001b[39;00m page_num \u001b[38;5;129;01min\u001b[39;00m \u001b[38;5;28mrange\u001b[39m(\u001b[38;5;241m4\u001b[39m):\n\u001b[1;32m     11\u001b[0m     \u001b[38;5;66;03m# get position links\u001b[39;00m\n\u001b[1;32m     12\u001b[0m     elements \u001b[38;5;241m=\u001b[39m driver\u001b[38;5;241m.\u001b[39mfind_elements(By\u001b[38;5;241m.\u001b[39mXPATH, \u001b[38;5;124m'\u001b[39m\u001b[38;5;124m//*[@id=\u001b[39m\u001b[38;5;124m\"\u001b[39m\u001b[38;5;124mjob-list\u001b[39m\u001b[38;5;124m\"\u001b[39m\u001b[38;5;124m]/li/div/div[1]/h2/a\u001b[39m\u001b[38;5;124m'\u001b[39m)\n\u001b[0;32m---> 13\u001b[0m     hrefs \u001b[38;5;241m=\u001b[39m [elem\u001b[38;5;241m.\u001b[39mget_attribute(\u001b[38;5;124m\"\u001b[39m\u001b[38;5;124mhref\u001b[39m\u001b[38;5;124m\"\u001b[39m) \u001b[38;5;28;01mfor\u001b[39;00m elem \u001b[38;5;129;01min\u001b[39;00m elements \u001b[38;5;28;01mif\u001b[39;00m elem\u001b[38;5;241m.\u001b[39mget_attribute(\u001b[38;5;124m\"\u001b[39m\u001b[38;5;124mhref\u001b[39m\u001b[38;5;124m\"\u001b[39m)]\n\u001b[1;32m     14\u001b[0m     links\u001b[38;5;241m.\u001b[39mextend(hrefs)\n\u001b[1;32m     15\u001b[0m     time\u001b[38;5;241m.\u001b[39msleep(random\u001b[38;5;241m.\u001b[39muniform(\u001b[38;5;241m3\u001b[39m, \u001b[38;5;241m7\u001b[39m))\n",
      "Cell \u001b[0;32mIn[37], line 13\u001b[0m, in \u001b[0;36m<listcomp>\u001b[0;34m(.0)\u001b[0m\n\u001b[1;32m     10\u001b[0m \u001b[38;5;28;01mfor\u001b[39;00m page_num \u001b[38;5;129;01min\u001b[39;00m \u001b[38;5;28mrange\u001b[39m(\u001b[38;5;241m4\u001b[39m):\n\u001b[1;32m     11\u001b[0m     \u001b[38;5;66;03m# get position links\u001b[39;00m\n\u001b[1;32m     12\u001b[0m     elements \u001b[38;5;241m=\u001b[39m driver\u001b[38;5;241m.\u001b[39mfind_elements(By\u001b[38;5;241m.\u001b[39mXPATH, \u001b[38;5;124m'\u001b[39m\u001b[38;5;124m//*[@id=\u001b[39m\u001b[38;5;124m\"\u001b[39m\u001b[38;5;124mjob-list\u001b[39m\u001b[38;5;124m\"\u001b[39m\u001b[38;5;124m]/li/div/div[1]/h2/a\u001b[39m\u001b[38;5;124m'\u001b[39m)\n\u001b[0;32m---> 13\u001b[0m     hrefs \u001b[38;5;241m=\u001b[39m [elem\u001b[38;5;241m.\u001b[39mget_attribute(\u001b[38;5;124m\"\u001b[39m\u001b[38;5;124mhref\u001b[39m\u001b[38;5;124m\"\u001b[39m) \u001b[38;5;28;01mfor\u001b[39;00m elem \u001b[38;5;129;01min\u001b[39;00m elements \u001b[38;5;28;01mif\u001b[39;00m \u001b[43melem\u001b[49m\u001b[38;5;241;43m.\u001b[39;49m\u001b[43mget_attribute\u001b[49m\u001b[43m(\u001b[49m\u001b[38;5;124;43m\"\u001b[39;49m\u001b[38;5;124;43mhref\u001b[39;49m\u001b[38;5;124;43m\"\u001b[39;49m\u001b[43m)\u001b[49m]\n\u001b[1;32m     14\u001b[0m     links\u001b[38;5;241m.\u001b[39mextend(hrefs)\n\u001b[1;32m     15\u001b[0m     time\u001b[38;5;241m.\u001b[39msleep(random\u001b[38;5;241m.\u001b[39muniform(\u001b[38;5;241m3\u001b[39m, \u001b[38;5;241m7\u001b[39m))\n",
      "File \u001b[0;32m/opt/anaconda3/lib/python3.8/site-packages/selenium/webdriver/remote/webelement.py:178\u001b[0m, in \u001b[0;36mWebElement.get_attribute\u001b[0;34m(self, name)\u001b[0m\n\u001b[1;32m    176\u001b[0m \u001b[38;5;28;01mif\u001b[39;00m getAttribute_js \u001b[38;5;129;01mis\u001b[39;00m \u001b[38;5;28;01mNone\u001b[39;00m:\n\u001b[1;32m    177\u001b[0m     _load_js()\n\u001b[0;32m--> 178\u001b[0m attribute_value \u001b[38;5;241m=\u001b[39m \u001b[38;5;28;43mself\u001b[39;49m\u001b[38;5;241;43m.\u001b[39;49m\u001b[43mparent\u001b[49m\u001b[38;5;241;43m.\u001b[39;49m\u001b[43mexecute_script\u001b[49m\u001b[43m(\u001b[49m\n\u001b[1;32m    179\u001b[0m \u001b[43m    \u001b[49m\u001b[38;5;124;43mf\u001b[39;49m\u001b[38;5;124;43m\"\u001b[39;49m\u001b[38;5;124;43m/* getAttribute */return (\u001b[39;49m\u001b[38;5;132;43;01m{\u001b[39;49;00m\u001b[43mgetAttribute_js\u001b[49m\u001b[38;5;132;43;01m}\u001b[39;49;00m\u001b[38;5;124;43m).apply(null, arguments);\u001b[39;49m\u001b[38;5;124;43m\"\u001b[39;49m\u001b[43m,\u001b[49m\u001b[43m \u001b[49m\u001b[38;5;28;43mself\u001b[39;49m\u001b[43m,\u001b[49m\u001b[43m \u001b[49m\u001b[43mname\u001b[49m\n\u001b[1;32m    180\u001b[0m \u001b[43m\u001b[49m\u001b[43m)\u001b[49m\n\u001b[1;32m    181\u001b[0m \u001b[38;5;28;01mreturn\u001b[39;00m attribute_value\n",
      "File \u001b[0;32m/opt/anaconda3/lib/python3.8/site-packages/selenium/webdriver/remote/webdriver.py:407\u001b[0m, in \u001b[0;36mWebDriver.execute_script\u001b[0;34m(self, script, *args)\u001b[0m\n\u001b[1;32m    404\u001b[0m converted_args \u001b[38;5;241m=\u001b[39m \u001b[38;5;28mlist\u001b[39m(args)\n\u001b[1;32m    405\u001b[0m command \u001b[38;5;241m=\u001b[39m Command\u001b[38;5;241m.\u001b[39mW3C_EXECUTE_SCRIPT\n\u001b[0;32m--> 407\u001b[0m \u001b[38;5;28;01mreturn\u001b[39;00m \u001b[38;5;28;43mself\u001b[39;49m\u001b[38;5;241;43m.\u001b[39;49m\u001b[43mexecute\u001b[49m\u001b[43m(\u001b[49m\u001b[43mcommand\u001b[49m\u001b[43m,\u001b[49m\u001b[43m \u001b[49m\u001b[43m{\u001b[49m\u001b[38;5;124;43m\"\u001b[39;49m\u001b[38;5;124;43mscript\u001b[39;49m\u001b[38;5;124;43m\"\u001b[39;49m\u001b[43m:\u001b[49m\u001b[43m \u001b[49m\u001b[43mscript\u001b[49m\u001b[43m,\u001b[49m\u001b[43m \u001b[49m\u001b[38;5;124;43m\"\u001b[39;49m\u001b[38;5;124;43margs\u001b[39;49m\u001b[38;5;124;43m\"\u001b[39;49m\u001b[43m:\u001b[49m\u001b[43m \u001b[49m\u001b[43mconverted_args\u001b[49m\u001b[43m}\u001b[49m\u001b[43m)\u001b[49m[\u001b[38;5;124m\"\u001b[39m\u001b[38;5;124mvalue\u001b[39m\u001b[38;5;124m\"\u001b[39m]\n",
      "File \u001b[0;32m/opt/anaconda3/lib/python3.8/site-packages/selenium/webdriver/remote/webdriver.py:347\u001b[0m, in \u001b[0;36mWebDriver.execute\u001b[0;34m(self, driver_command, params)\u001b[0m\n\u001b[1;32m    345\u001b[0m response \u001b[38;5;241m=\u001b[39m \u001b[38;5;28mself\u001b[39m\u001b[38;5;241m.\u001b[39mcommand_executor\u001b[38;5;241m.\u001b[39mexecute(driver_command, params)\n\u001b[1;32m    346\u001b[0m \u001b[38;5;28;01mif\u001b[39;00m response:\n\u001b[0;32m--> 347\u001b[0m     \u001b[38;5;28;43mself\u001b[39;49m\u001b[38;5;241;43m.\u001b[39;49m\u001b[43merror_handler\u001b[49m\u001b[38;5;241;43m.\u001b[39;49m\u001b[43mcheck_response\u001b[49m\u001b[43m(\u001b[49m\u001b[43mresponse\u001b[49m\u001b[43m)\u001b[49m\n\u001b[1;32m    348\u001b[0m     response[\u001b[38;5;124m\"\u001b[39m\u001b[38;5;124mvalue\u001b[39m\u001b[38;5;124m\"\u001b[39m] \u001b[38;5;241m=\u001b[39m \u001b[38;5;28mself\u001b[39m\u001b[38;5;241m.\u001b[39m_unwrap_value(response\u001b[38;5;241m.\u001b[39mget(\u001b[38;5;124m\"\u001b[39m\u001b[38;5;124mvalue\u001b[39m\u001b[38;5;124m\"\u001b[39m, \u001b[38;5;28;01mNone\u001b[39;00m))\n\u001b[1;32m    349\u001b[0m     \u001b[38;5;28;01mreturn\u001b[39;00m response\n",
      "File \u001b[0;32m/opt/anaconda3/lib/python3.8/site-packages/selenium/webdriver/remote/errorhandler.py:229\u001b[0m, in \u001b[0;36mErrorHandler.check_response\u001b[0;34m(self, response)\u001b[0m\n\u001b[1;32m    227\u001b[0m         alert_text \u001b[38;5;241m=\u001b[39m value[\u001b[38;5;124m\"\u001b[39m\u001b[38;5;124malert\u001b[39m\u001b[38;5;124m\"\u001b[39m]\u001b[38;5;241m.\u001b[39mget(\u001b[38;5;124m\"\u001b[39m\u001b[38;5;124mtext\u001b[39m\u001b[38;5;124m\"\u001b[39m)\n\u001b[1;32m    228\u001b[0m     \u001b[38;5;28;01mraise\u001b[39;00m exception_class(message, screen, stacktrace, alert_text)  \u001b[38;5;66;03m# type: ignore[call-arg]  # mypy is not smart enough here\u001b[39;00m\n\u001b[0;32m--> 229\u001b[0m \u001b[38;5;28;01mraise\u001b[39;00m exception_class(message, screen, stacktrace)\n",
      "\u001b[0;31mStaleElementReferenceException\u001b[0m: Message: stale element reference: stale element not found in the current frame\n  (Session info: chrome=134.0.6998.89); For documentation on this error, please visit: https://www.selenium.dev/documentation/webdriver/troubleshooting/errors#stale-element-reference-exception\nStacktrace:\n0   chromedriver                        0x0000000102b61804 cxxbridge1$str$ptr + 2785964\n1   chromedriver                        0x0000000102b59ddc cxxbridge1$str$ptr + 2754692\n2   chromedriver                        0x00000001026adea8 cxxbridge1$string$len + 92928\n3   chromedriver                        0x00000001026b3cd0 cxxbridge1$string$len + 117032\n4   chromedriver                        0x00000001026b601c cxxbridge1$string$len + 126068\n5   chromedriver                        0x0000000102737444 cxxbridge1$string$len + 655516\n6   chromedriver                        0x0000000102736678 cxxbridge1$string$len + 651984\n7   chromedriver                        0x00000001026e935c cxxbridge1$string$len + 335796\n8   chromedriver                        0x0000000102b26cd4 cxxbridge1$str$ptr + 2545532\n9   chromedriver                        0x0000000102b29fa0 cxxbridge1$str$ptr + 2558536\n10  chromedriver                        0x0000000102b06d04 cxxbridge1$str$ptr + 2414508\n11  chromedriver                        0x0000000102b2a800 cxxbridge1$str$ptr + 2560680\n12  chromedriver                        0x0000000102af7ba0 cxxbridge1$str$ptr + 2352712\n13  chromedriver                        0x0000000102b4a45c cxxbridge1$str$ptr + 2690820\n14  chromedriver                        0x0000000102b4a5e4 cxxbridge1$str$ptr + 2691212\n15  chromedriver                        0x0000000102b59a50 cxxbridge1$str$ptr + 2753784\n16  libsystem_pthread.dylib             0x000000019e54206c _pthread_start + 148\n17  libsystem_pthread.dylib             0x000000019e53ce2c thread_start + 8\n"
     ]
    }
   ],
   "source": [
    "# link_dict = {}\n",
    "# for url, title in zip(url_list[14:], title_list[14:]):\n",
    "#     # visit target page\n",
    "#     driver.get(url)\n",
    "#     time.sleep(5)\n",
    "\n",
    "#     links = []\n",
    "\n",
    "#     # scrape the first 10 pages or until there's no \"next\" page\n",
    "#     for page_num in range(4):\n",
    "#         # get position links\n",
    "#         elements = driver.find_elements(By.XPATH, '//*[@id=\"job-list\"]/li/div/div[1]/h2/a')\n",
    "#         hrefs = [elem.get_attribute(\"href\") for elem in elements if elem.get_attribute(\"href\")]\n",
    "#         links.extend(hrefs)\n",
    "#         time.sleep(random.uniform(3, 7))\n",
    "#         print(f\"Page {page_num + 1} hrefs:\", hrefs)\n",
    "\n",
    "#         # check if the \"next\" page button exists\n",
    "#         try:\n",
    "#             next_page = driver.find_element(By.XPATH, '//*[@id=\"__next\"]/div/main/div/div[2]/div/div/div[1]/div/div[2]/div[1]/nav/a[1]')\n",
    "#             next_page.click()\n",
    "#             time.sleep(random.uniform(3, 7))  # wait for next page to load\n",
    "#         except:\n",
    "#             print(\"No more pages to load or 'Next' button is not available.\")\n",
    "#             break  # exit the loop if no next page is found\n",
    "    \n",
    "#     link_dict[\" \".join(title)] = links"
   ]
  },
  {
   "cell_type": "code",
   "execution_count": null,
   "metadata": {},
   "outputs": [],
   "source": [
    "# import json\n",
    "\n",
    "# with open('job_links.json', 'a', encoding='utf-8') as f:\n",
    "#     json.dump(link_dict, f, ensure_ascii=False, indent=4)"
   ]
  },
  {
   "cell_type": "markdown",
   "metadata": {},
   "source": [
    "### Get job posting info"
   ]
  },
  {
   "cell_type": "code",
   "execution_count": null,
   "metadata": {},
   "outputs": [],
   "source": [
    "# read job posting url\n",
    "url_list = []"
   ]
  },
  {
   "cell_type": "code",
   "execution_count": null,
   "metadata": {},
   "outputs": [],
   "source": [
    "# visit target page\n",
    "driver = webdriver.Chrome()"
   ]
  },
  {
   "cell_type": "code",
   "execution_count": null,
   "metadata": {},
   "outputs": [],
   "source": [
    "job_list = []\n",
    "\n",
    "for url in url_list:\n",
    "    # visit target page\n",
    "    driver.get(url)\n",
    "    time.sleep(5)\n",
    "\n",
    "    jobInfo = {}\n",
    "\n",
    "    # jobTitle\n",
    "    try:\n",
    "        elements = driver.find_elements(By.XPATH, '//*[@id=\"__next\"]/div/main/div/div/div/div[1]/aside/header/div/div/div[1]/h1')\n",
    "        jobTitle = elements[0].text\n",
    "    except:\n",
    "        jobTitle = \"\"\n",
    "\n",
    "    # companyName\n",
    "    try:\n",
    "        elements = driver.find_elements(By.XPATH, '/html/body/div[1]/div/main/div/div/div/div[1]/aside/header/div/div/div[2]/div[1]/span[1]/span/span')\n",
    "        companyName = elements[0].text\n",
    "    except:\n",
    "        companyName = \"\"\n",
    "\n",
    "    # jobLocation\n",
    "    try:\n",
    "        elements = driver.find_elements(By.XPATH, '/html/body/div[1]/div/main/div/div/div/div[1]/aside/header/div/div/div[2]/div[1]/span[2]/span/span')\n",
    "        jobLocation = elements[0].text\n",
    "    except:\n",
    "        jobLocation = \"\"\n",
    "    \n",
    "    # employmentType\n",
    "    try:\n",
    "        elements = driver.find_elements(By.XPATH, '/html/body/div[1]/div/main/div/div/div/div[1]/aside/div/div[1]/div/div[1]/div/span[1]')\n",
    "        employmentType = elements[0].text\n",
    "    except:\n",
    "        employmentType = \"\"\n",
    "\n",
    "    # estimatedSalary\n",
    "    try:\n",
    "        elements = driver.find_elements(By.XPATH, '/html/body/div[1]/div/main/div/div/div/div[1]/aside/div/div[1]/div/div[1]/div/span[2]/span/span')\n",
    "        estimatedSalary = elements[0].text\n",
    "    except:\n",
    "        estimatedSalary = \"\"\n",
    "\n",
    "    # qualifications\n",
    "    try:\n",
    "        elements = driver.find_elements(By.XPATH, '//ul[contains(@class, \"chakra-wrap__list\")]//span[@data-testid=\"viewJobQualificationItem\"]')\n",
    "        qualifications = [elem.text for elem in elements]\n",
    "    except:\n",
    "        qualifications = \"\"\n",
    "\n",
    "    # jobDescription\n",
    "    try:\n",
    "        elements = driver.find_elements(By.XPATH, '/html/body/div[1]/div/main/div/div/div/div[1]/aside/div/div[1]/div/div[4]/div')\n",
    "        jobDescription = [elem.text for elem in elements]\n",
    "    except:\n",
    "        jobDescription = \"\"\n",
    "\n",
    "    jobInfo['jobTitle'] = jobTitle \n",
    "    jobInfo['companyName'] = companyName\n",
    "    jobInfo['jobLocation'] = jobLocation\n",
    "    jobInfo['employmentType'] = employmentType\n",
    "    jobInfo['estimatedSalary'] = estimatedSalary\n",
    "    jobInfo['qualifications'] = qualifications\n",
    "    jobInfo['jobDescription'] = jobDescription\n",
    "\n",
    "    job_list.append(jobInfo)\n",
    "\n",
    "    time.sleep(random.uniform(3, 7))"
   ]
  }
 ],
 "metadata": {
  "kernelspec": {
   "display_name": "base",
   "language": "python",
   "name": "python3"
  },
  "language_info": {
   "codemirror_mode": {
    "name": "ipython",
    "version": 3
   },
   "file_extension": ".py",
   "mimetype": "text/x-python",
   "name": "python",
   "nbconvert_exporter": "python",
   "pygments_lexer": "ipython3",
   "version": "3.8.8"
  }
 },
 "nbformat": 4,
 "nbformat_minor": 2
}
