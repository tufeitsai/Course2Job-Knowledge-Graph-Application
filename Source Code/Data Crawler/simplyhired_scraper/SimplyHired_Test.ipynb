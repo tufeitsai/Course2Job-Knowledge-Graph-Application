{
 "cells": [
  {
   "cell_type": "code",
   "execution_count": 2,
   "id": "63d1b8f6-279f-40a1-97b3-897273103531",
   "metadata": {},
   "outputs": [],
   "source": [
    "import json\n",
    "import time\n",
    "from selenium import webdriver\n",
    "from selenium.webdriver.chrome.service import Service\n",
    "from selenium.webdriver.chrome.options import Options\n",
    "from selenium.webdriver.common.by import By"
   ]
  },
  {
   "cell_type": "code",
   "execution_count": null,
   "id": "9c546498-505c-4e12-9276-8c21e0634c1a",
   "metadata": {},
   "outputs": [],
   "source": [
    "\n",
    "chromedriver_path = \"/opt/homebrew/bin/chromedriver\"\n",
    "\n",
    "chrome_options = Options()\n",
    "chrome_options.add_argument(\"--start-maximized\")\n",
    "chrome_options.add_argument(\"--disable-blink-features=AutomationControlled\")\n",
    "\n",
    "driver = webdriver.Chrome(service=Service(chromedriver_path), options=chrome_options)"
   ]
  },
  {
   "cell_type": "code",
   "execution_count": 6,
   "id": "5d2ccc1e-584c-4cd7-907b-270ff1fe11e5",
   "metadata": {},
   "outputs": [],
   "source": [
    "start_url = \"https://www.simplyhired.com/search?q=data+engineer&l=united+states\"\n",
    "driver.get(start_url)\n",
    "time.sleep(5)"
   ]
  },
  {
   "cell_type": "code",
   "execution_count": null,
   "id": "eb753ece-0c6b-4834-ad91-d90ea89bfbab",
   "metadata": {},
   "outputs": [],
   "source": [
    "def crawl_single_page():\n",
    "    job_elements = driver.find_elements(By.XPATH, \"//div[@data-testid='searchSerpJob']\")\n",
    "    print(f\"✅ 当前页找到 {len(job_elements)} 个职位\")\n",
    "    jobs_on_page = []\n",
    "\n",
    "    for job in job_elements:\n",
    "        try:\n",
    "            driver.execute_script(\"arguments[0].scrollIntoView();\", job)\n",
    "            time.sleep(1)\n",
    "            job.click()\n",
    "            time.sleep(2)\n",
    "\n",
    "            # 抓取当前职位页面 URL\n",
    "            job_url = driver.current_url\n",
    "\n",
    "            # 抓取职位标题\n",
    "            try:\n",
    "                title = driver.find_element(By.XPATH, \"//h2[@data-testid='viewJobTitle']\").text.strip()\n",
    "            except:\n",
    "                title = \"N/A\"\n",
    "\n",
    "            # 公司名称\n",
    "            try:\n",
    "                company = driver.find_element(By.XPATH, \"//div[@data-testid='viewJobCompanyDetailsContainer']//span[@data-testid='detailText']\").text.strip()\n",
    "            except:\n",
    "                company = \"N/A\"\n",
    "\n",
    "            # 工作地点\n",
    "            try:\n",
    "                location = driver.find_elements(By.XPATH, \"//div[@data-testid='viewJobCompanyDetailsContainer']//span[@data-testid='detailText']\")[1].text.strip()\n",
    "            except:\n",
    "                location = \"N/A\"\n",
    "\n",
    "            # 工作类型\n",
    "            try:\n",
    "                work_type = driver.find_element(By.XPATH, \"//div[@data-testid='viewJobBodyJobDetailsContainer']//span[@data-testid='detailText']\").text.strip()\n",
    "            except:\n",
    "                work_type = \"N/A\"\n",
    "\n",
    "            # 薪资\n",
    "            try:\n",
    "                salary = driver.find_element(By.XPATH, \"(//span[@data-testid='detailText' and contains(text(), '$')])[1]\").text.strip()\n",
    "            except:\n",
    "                salary = \"Not listed\"\n",
    "\n",
    "            # 福利\n",
    "            try:\n",
    "                benefits_elements = driver.find_elements(By.XPATH, \"//span[@data-testid='viewJobBenefitItem']\")\n",
    "                benefits = \", \".join([b.text.strip() for b in benefits_elements])\n",
    "            except:\n",
    "                benefits = \"\"\n",
    "\n",
    "            # 资格（技能）\n",
    "            try:\n",
    "                qualification_elements = driver.find_elements(By.XPATH, \"//span[@data-testid='viewJobQualificationItem']\")\n",
    "                qualifications = \", \".join([q.text.strip() for q in qualification_elements])\n",
    "            except:\n",
    "                qualifications = \"N/A\"\n",
    "\n",
    "            # 职位描述（所有 p 和 ul/li 合并）\n",
    "            try:\n",
    "                desc_elements = driver.find_elements(By.XPATH, \"//div[@data-testid='viewJobBodyJobFullDescriptionContent']//p | //div[@data-testid='viewJobBodyJobFullDescriptionContent']//ul | //div[@data-testid='viewJobBodyJobFullDescriptionContent']//li\")\n",
    "                job_description = \" \".join([d.text.strip() for d in desc_elements])\n",
    "            except:\n",
    "                job_description = \"N/A\"\n",
    "\n",
    "            job_info = {\n",
    "                \"Job Title\": title,\n",
    "                \"Company\": company,\n",
    "                \"Location\": location,\n",
    "                \"Work Type\": work_type,\n",
    "                \"Salary\": salary,\n",
    "                \"Benefits\": benefits,\n",
    "                \"Qualifications\": qualifications,\n",
    "                \"Full Job Description\": job_description,\n",
    "                \"URL\": job_url\n",
    "            }\n",
    "\n",
    "            jobs_on_page.append(job_info)\n",
    "\n",
    "        except Exception as e:\n",
    "            print(f\" 抓取单个职位失败: {e}\")\n",
    "            continue\n",
    "\n",
    "    return jobs_on_page"
   ]
  },
  {
   "cell_type": "code",
   "execution_count": 10,
   "id": "bd039759-2b4f-44e6-9e69-0bec828ced49",
   "metadata": {},
   "outputs": [
    {
     "name": "stdout",
     "output_type": "stream",
     "text": [
      "📄 开始抓取第 1 页...\n",
      "✅ 当前页找到 20 个职位\n",
      "📄 开始抓取第 2 页...\n",
      "✅ 当前页找到 20 个职位\n",
      "📄 开始抓取第 3 页...\n",
      "✅ 当前页找到 20 个职位\n",
      "✅ 已完成，共抓取 60 条职位数据\n"
     ]
    }
   ],
   "source": [
    "all_jobs = []\n",
    "page_count = 0\n",
    "\n",
    "while len(all_jobs) < 500:\n",
    "    page_count += 1\n",
    "    print(f\"📄 开始抓取第 {page_count} 页...\")\n",
    "    current_jobs = crawl_single_page()\n",
    "    all_jobs.extend(current_jobs)\n",
    "\n",
    "    # 如果已经抓够 500 条，就跳出循环\n",
    "    if len(all_jobs) >= 500:\n",
    "        break\n",
    "\n",
    "    try:\n",
    "        driver.execute_script(\"window.scrollTo(0, document.body.scrollHeight);\")\n",
    "        time.sleep(2)\n",
    "        next_page_button = driver.find_element(By.XPATH, \"//a[@data-testid='pageNumberBlockNext']\")\n",
    "        next_page_button.click()\n",
    "        time.sleep(5)\n",
    "    except:\n",
    "        print(\"❌ 没有找到下一页按钮，提前结束。\")\n",
    "        break\n",
    "\n",
    "print(f\"✅ 已完成，共抓取 {len(all_jobs)} 条职位数据\")"
   ]
  },
  {
   "cell_type": "code",
   "execution_count": 12,
   "id": "2d4fe40b-5eda-4c34-a4af-2321b1e29998",
   "metadata": {},
   "outputs": [
    {
     "name": "stdout",
     "output_type": "stream",
     "text": [
      "✅ 数据已保存为 simplyhired_jobs_50.json\n"
     ]
    }
   ],
   "source": [
    "with open(\"simplyhired_jobs_50.json\", \"w\", encoding=\"utf-8\") as f:\n",
    "    json.dump(all_jobs, f, ensure_ascii=False, indent=4)\n",
    "print(\"✅ 数据已保存为 simplyhired_jobs_50.json\")"
   ]
  },
  {
   "cell_type": "code",
   "execution_count": null,
   "id": "c6f6ab78-2540-4c9a-803b-4838a60e1255",
   "metadata": {},
   "outputs": [],
   "source": []
  }
 ],
 "metadata": {
  "kernelspec": {
   "display_name": "Python (Selenium)",
   "language": "python",
   "name": "selenium_env"
  },
  "language_info": {
   "codemirror_mode": {
    "name": "ipython",
    "version": 3
   },
   "file_extension": ".py",
   "mimetype": "text/x-python",
   "name": "python",
   "nbconvert_exporter": "python",
   "pygments_lexer": "ipython3",
   "version": "3.10.16"
  }
 },
 "nbformat": 4,
 "nbformat_minor": 5
}
