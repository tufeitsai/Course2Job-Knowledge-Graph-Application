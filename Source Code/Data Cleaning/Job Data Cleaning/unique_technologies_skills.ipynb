{
 "cells": [
  {
   "cell_type": "code",
   "execution_count": 2,
   "id": "6e5c7f95-bce7-4460-aeea-25eda0b99d93",
   "metadata": {},
   "outputs": [],
   "source": [
    "file = \"Final_mapped_keywords.json\""
   ]
  },
  {
   "cell_type": "code",
   "execution_count": 18,
   "id": "614383b8-def2-4e7f-9ed4-a4a21bb7db27",
   "metadata": {},
   "outputs": [
    {
     "name": "stdout",
     "output_type": "stream",
     "text": [
      "✅ Done! Saved 7725 unique technologies to 'unique_technologies.txt'\n"
     ]
    }
   ],
   "source": [
    "import json\n",
    "\n",
    "# Load your JSON data\n",
    "with open('Final_mapped_keywords.json', 'r') as f:\n",
    "    data = json.load(f)\n",
    "\n",
    "# Use a set to collect unique technologies\n",
    "unique_technologies = set()\n",
    "\n",
    "# Collect non-null, non-empty values\n",
    "for entry in data:\n",
    "    tech_list = entry.get(\"Technologies\")\n",
    "    if tech_list:\n",
    "        for tech in tech_list:\n",
    "            if tech:  # Skip None or empty\n",
    "                unique_technologies.add(tech)\n",
    "\n",
    "# Write to a text file\n",
    "with open('unique_technologies.txt', 'w') as f:\n",
    "    for tech in sorted(unique_technologies):\n",
    "        f.write(f\"{tech}\\n\")\n",
    "\n",
    "print(f\"✅ Done! Saved {len(unique_technologies)} unique technologies to 'unique_technologies.txt'\")\n"
   ]
  },
  {
   "cell_type": "code",
   "execution_count": 20,
   "id": "5b9bc232-c38d-4c42-9ece-fb5cdf9b832a",
   "metadata": {},
   "outputs": [
    {
     "name": "stdout",
     "output_type": "stream",
     "text": [
      "✅ Saved skill mapping to skill_mapping.json\n"
     ]
    }
   ],
   "source": [
    "import json\n",
    "\n",
    "# Path to the grouped skills file\n",
    "input_path = \"improved_generalized_skills.txt\"\n",
    "output_path = \"skill_mapping.json\"\n",
    "\n",
    "# Parse the mapping\n",
    "mapping_dict = {}\n",
    "with open(input_path, \"r\", encoding=\"utf-8\") as f:\n",
    "    current_group = None\n",
    "    for line in f:\n",
    "        line = line.strip()\n",
    "        if not line:\n",
    "            continue\n",
    "        if line.startswith(\"==\") and line.endswith(\"==\"):\n",
    "            current_group = line.strip(\"= \").strip()\n",
    "        elif current_group:\n",
    "            mapping_dict[line] = current_group\n",
    "\n",
    "# Save to JSON\n",
    "with open(output_path, \"w\", encoding=\"utf-8\") as f:\n",
    "    json.dump(mapping_dict, f, indent=2, ensure_ascii=False)\n",
    "\n",
    "print(f\"✅ Saved skill mapping to {output_path}\")\n"
   ]
  },
  {
   "cell_type": "code",
   "execution_count": 22,
   "id": "a176333b-85a5-4685-8d2b-04b5cd4f62d8",
   "metadata": {},
   "outputs": [
    {
     "name": "stdout",
     "output_type": "stream",
     "text": [
      "✅ Total Unique Technologies After Mapping: 7251\n"
     ]
    }
   ],
   "source": [
    "import json\n",
    "\n",
    "# Step 1: Load skill mapping from the JSON file\n",
    "with open(\"skill_mapping.json\", \"r\", encoding=\"utf-8\") as f:\n",
    "    skill_mapping = json.load(f)\n",
    "\n",
    "# Step 2: Load your original keyword data\n",
    "with open(\"Final_mapped_keywords.json\", \"r\", encoding=\"utf-8\") as f:\n",
    "    data = json.load(f)\n",
    "\n",
    "# Step 3: Apply mapping to the 'Technologies' field\n",
    "unique_technologies = set()\n",
    "\n",
    "for job in data:\n",
    "    if \"Technologies\" in job and isinstance(job[\"Technologies\"], list):\n",
    "        new_techs = []\n",
    "        for tech in job[\"Technologies\"]:\n",
    "            if tech:\n",
    "                mapped = skill_mapping.get(tech, tech)\n",
    "                new_techs.append(mapped)\n",
    "                unique_technologies.add(mapped)\n",
    "        job[\"Technologies\"] = sorted(set(new_techs))  # Deduplicated per job\n",
    "\n",
    "# Step 4: Save updated data\n",
    "with open(\"Final_mapped_keywords_mapped.json\", \"w\", encoding=\"utf-8\") as f:\n",
    "    json.dump(data, f, indent=2, ensure_ascii=False)\n",
    "\n",
    "# Step 5: Output the count of unique mapped technologies\n",
    "print(f\"✅ Total Unique Technologies After Mapping: {len(unique_technologies)}\")"
   ]
  },
  {
   "cell_type": "code",
   "execution_count": null,
   "id": "7c6423ca-ef4c-44c3-a357-2b054d5e5955",
   "metadata": {},
   "outputs": [],
   "source": []
  }
 ],
 "metadata": {
  "kernelspec": {
   "display_name": "Python 3 (ipykernel)",
   "language": "python",
   "name": "python3"
  },
  "language_info": {
   "codemirror_mode": {
    "name": "ipython",
    "version": 3
   },
   "file_extension": ".py",
   "mimetype": "text/x-python",
   "name": "python",
   "nbconvert_exporter": "python",
   "pygments_lexer": "ipython3",
   "version": "3.12.7"
  }
 },
 "nbformat": 4,
 "nbformat_minor": 5
}
